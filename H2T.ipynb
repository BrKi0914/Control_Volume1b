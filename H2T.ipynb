def H2T(H, Cpave):
    
# Converts enthalpy to temperature.

# The specific heat can be temperature dependent.
# The reference temperature is assumed to be 0 C.    
    
    Tref = 0
    T = Tref + H/Cpave

    return T

#--------------------------------------------example

# the dummy arrays are created to test the T fuction

# import libraries
import numpy as np

H = 55.0
Cpave = np.array([0.5,1,0.75,0.8])
H2T(H,Cpave)
