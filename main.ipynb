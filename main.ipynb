{
 "cells": [
  {
   "cell_type": "markdown",
   "metadata": {},
   "source": [
    "# main c1b code\n",
    "This the main code that we are going to test here. Write your comments as soon as encouter the problem. Use markdown cell to insert your comments.  "
   ]
  },
  {
   "cell_type": "code",
   "execution_count": 2,
   "metadata": {
    "collapsed": false
   },
   "outputs": [
    {
     "name": "stdout",
     "output_type": "stream",
     "text": [
      "Regions:\n",
      "[0] test\n",
      "[1] alaska\n",
      "Type region#: 0\n",
      "test\n",
      "--------------------\n",
      "Projects: \n",
      "[0] easy\n",
      "[1] rock\n",
      "[2] ice\n",
      "Type project#: 0\n",
      "easy\n",
      "----------\n",
      "Experiments =\n",
      "[0] e1 SS, UB = fixed Ts, LB = fixed Jb, source=0\n",
      "[1] e2 SS with exponential source term\n",
      "[2] e3 SS with composite material\n",
      "[3] e4 SS with temp.-dependent K and Cp\n",
      "[4] e5 instantaneous step change\n",
      "[5] e6 periodic surface temp\n",
      "[6] e7 triangle heating pulse\n",
      "Type experiment#: 0\n",
      "('test', 'easy', 'e1')\n",
      "exp= ('test', 'easy', 'e1')\n",
      "test easy e1\n"
     ]
    }
   ],
   "source": [
    "%matplotlib inline\n",
    "import c1b_util1 as c1b\n",
    "import numpy as np\n",
    "from scipy import interpolate\n",
    "import matplotlib.pyplot as plt\n",
    "\n",
    "#position of the window for the laptop\n",
    "#not neccessary, but we keep it because another function is using it\n",
    "pos = [480, 40, 1090, 800]\n",
    "secyr = 86400*365;      # seconds per year \n",
    "f = 0.8                 # implicit/explicit factor \n",
    "jflag = 1               # 1 (plot J), 2 (plot Jnet)\n",
    "\n",
    "# TEST: enter all 0 cases\n",
    "experm = c1b.set_experim(); \n",
    "print 'exp=',experm\n",
    "region = experm[0]; project = experm[1]; experim = experm[2]\n",
    "print region, project,experim"
   ]
  },
  {
   "cell_type": "markdown",
   "metadata": {},
   "source": [
    "next we skip the lines 78-83 in the Gary's code. Make sure to corresct this function in the utils file. Assign 'return experiment'."
   ]
  },
  {
   "cell_type": "code",
   "execution_count": 5,
   "metadata": {
    "collapsed": false,
    "scrolled": true
   },
   "outputs": [
    {
     "name": "stdout",
     "output_type": "stream",
     "text": [
      "e1_layer Ts_1 Tprop_1 source_1\n",
      "\n",
      "Reading the entire file at once ignoring commented lines.\n",
      "[[  0.    1.    1.    1.5]\n",
      " [  1.    5.    1.    4. ]\n",
      " [  5.   10.    1.    2. ]\n",
      " [ 10.   20.    1.    2. ]]\n",
      "[  0.   1.   5.  10.]\n"
     ]
    }
   ],
   "source": [
    "experm_file ='projects/'+region+'/'+project+'/'+experim+'/'+experim+'_namelist.txt'\n",
    "fid = open(experm_file,'r')\n",
    "header = fid.readline()\n",
    "blank = fid.readline()\n",
    "Lname_s = fid.readline()\n",
    "Tsname_s = fid.readline()\n",
    "Pname_s = fid.readline()\n",
    "Sname_s = fid.readline()\n",
    "fid.close()\n",
    "#print header, blank, Lname_s, Tsname_s, Pname_s, Sname_s\n",
    "\n",
    "Lname = c1b.extract_str(Lname_s) #  physical-layers file\n",
    "Tsname = c1b.extract_str(Tsname_s) #  Ts-history file\n",
    "Pname = c1b.extract_str(Pname_s) # thermal property m-file\n",
    "Sname = c1b.extract_str(Sname_s) #  source m-file\n",
    "print Lname, Tsname, Pname, Sname\n",
    "\n",
    "lib_file = 'projects/'+region+'/library/layers/'+Lname+'.txt' \n",
    "print '\\nReading the entire file at once ignoring commented lines.'\n",
    "wk = np.loadtxt(lib_file, comments='%', delimiter=',', unpack=False)\n",
    "print wk\n",
    "zfuL = wk[:,0]          # upper boundary of this physical layer\n",
    "zfdL = wk[:,1]          # lower boundary of this physical layer\n",
    "typL = wk[:,2]          # type of material for this layer\n",
    "nL   = wk[:,3]          # number of control volumes for this layer\n",
    "\n",
    "print zfuL"
   ]
  },
  {
   "cell_type": "markdown",
   "metadata": {},
   "source": [
    "I am not sure what N should be equal too. **Gary did not pass n=4 to the function. It outputs N.** Need to check why. See Z_grid. There is a bug in Z_grid. Currently does not work. \n",
    "**Brielle, we need to check why zfuL that we are getting is different from maltlab. Also big N is somehow calculated in the Z_grid, nooed to check that too.**"
   ]
  },
  {
   "cell_type": "code",
   "execution_count": 6,
   "metadata": {
    "collapsed": false
   },
   "outputs": [
    {
     "name": "stdout",
     "output_type": "stream",
     "text": [
      "input\n",
      "[  0.   1.   5.  10.] [  1.   5.  10.  20.] [ 1.  1.  1.  1.] [ 1.5  4.   2.   2. ]\n",
      "output\n",
      "[  0.    0.2   0.6   1.    2.6   4.2   7.    9.   14.   18. ] [  0.    0.4   0.8   1.8   3.4   5.6   8.   11.5  16.   18. ] [ 0.2  0.4  0.4  1.6  1.6  2.8  2.   5.   4. ]\n",
      "\n",
      "[  1.00000000e-09   4.00000000e-01   4.00000000e-01   1.00000000e+00\n",
      "   1.60000000e+00   2.20000000e+00   2.40000000e+00   3.50000000e+00\n",
      "   4.50000000e+00] [ 0.          0.5         0.5         0.8         0.5         0.63636364\n",
      "  0.41666667  0.71428571  0.44444444] [ 1.  1.  1.  1.  1.  1.  1.  1.  1.  0.]\n",
      "9\n"
     ]
    }
   ],
   "source": [
    "print 'input'\n",
    "print zfuL, zfdL, typL, nL\n",
    "[zf,z,Dz,dz,varep,typ,N]=c1b.Z_grid(4,zfuL, zfdL, typL, nL, pos)\n",
    "zz = z[1:N]\n",
    "spaceP = [zf,z,Dz,dz,varep];\n",
    "#print spaceP\n",
    "print 'output'\n",
    "print zf,z,Dz\n",
    "print ''\n",
    "print dz,varep,typ\n",
    "print N"
   ]
  },
  {
   "cell_type": "code",
   "execution_count": 17,
   "metadata": {
    "collapsed": false
   },
   "outputs": [
    {
     "name": "stdout",
     "output_type": "stream",
     "text": [
      "4 [ 1.5  4.   2.   2. ]\n",
      "0.666666666667 [ 0.          0.33333333  1.        ]\n"
     ]
    }
   ],
   "source": [
    "#typ = np.zeros(10)\n",
    "nlayers = len(typL)\n",
    "print nlayers,nL\n",
    "\n",
    "#nL = np.ones(n) + 1.5  \n",
    "    \n",
    "if nL[0]%1 != 0.5:\n",
    "    print(' ') \n",
    "    print('Error: Z_grid.m') \n",
    "    print('Upper physical layer needs to include a 1/2-CV.  Thus, nL(1) ') \n",
    "    print('should be a number like 1.5, 2.5, 4.5, etc.')\n",
    "j = 1 \n",
    "Dz = (zfdL[0] - zfuL[0]) / nL[0]                 \n",
    "zf = [zfuL[0], zfuL[0] + 0.5*Dz]                 \n",
    "zfx = np.arange(zf[1] + Dz, zfdL[0]+Dz, Dz)      \n",
    "zf = zf = np.concatenate((zf, zfx))           \n",
    "n = len(zf) - 1       \n",
    "print Dz, zf"
   ]
  },
  {
   "cell_type": "markdown",
   "metadata": {},
   "source": [
    "Note: lines 124-172 in matlab. Here loadtxt removes the neccessity of using extract_num and combined two switch statements into one. "
   ]
  },
  {
   "cell_type": "code",
   "execution_count": 4,
   "metadata": {
    "collapsed": false
   },
   "outputs": [
    {
     "name": "stdout",
     "output_type": "stream",
     "text": [
      "easy\n",
      "[-10.   0.   0.  50.]\n",
      "['e1', -10.0, 0.0, 0.0]\n",
      "[array([ 1.,  1.,  1.,  1.,  1.,  1.,  1.,  1.,  1.,  0.])]\n"
     ]
    }
   ],
   "source": [
    "print project\n",
    "param_file = 'projects/'+region+'/'+project+'/'+experim+'_param.txt'\n",
    "\n",
    "if region == 'alaska':\n",
    "    # Note that I have not check this case\n",
    "    wk = np.loadtxt(param_file, comments='%', delimiter=',', unpack=False)\n",
    "    imat0= wk[0]; matfrac0 = wk[1]; Kg25 = wk[2]; \n",
    "    phi0 = wk[3]; qb0 = wk[4]\n",
    "    print wk\n",
    "    testP = [];\n",
    "    print testP\n",
    "    \n",
    "    imat = imat0*np.ones(N-1)\n",
    "    matfrac = matfrac0*np.ones(N-1)\n",
    "    phi = phi0*np.ones(N-1)\n",
    "    Mw0 = float('nan')*np.ones(N-1)\n",
    "    materialC = [imat,matfrac,Kg25,phi,Mw0]\n",
    "    print materialC\n",
    "    \n",
    "elif region == 'test':\n",
    "    wk = np.loadtxt(param_file, comments='%', delimiter=',', unpack=False)\n",
    "    T0= wk[0]; dT = wk[1]; period = wk[2]; qb0 = wk[3]\n",
    "    print wk\n",
    "    testP = [experim, T0,dT,period];\n",
    "    print testP\n",
    "    materialC = [typ]\n",
    "    print materialC\n",
    "else:\n",
    "    testP = [];"
   ]
  },
  {
   "cell_type": "markdown",
   "metadata": {},
   "source": [
    "**Assigment for Brielle.** Need to read Tsmethod from file"
   ]
  },
  {
   "cell_type": "code",
   "execution_count": 5,
   "metadata": {
    "collapsed": false
   },
   "outputs": [
    {
     "name": "stdout",
     "output_type": "stream",
     "text": [
      "[[  0. -10.]\n",
      " [  5. -10.]\n",
      " [ 10. -10.]]\n",
      "[  0.   5.  10.] [-10. -10. -10.]\n"
     ]
    }
   ],
   "source": [
    "init_file = 'projects/'+region+'/Ts/'+Tsname+'.txt'\n",
    "#print Tsname\n",
    "wk = np.loadtxt(init_file, skiprows=4,unpack=False)\n",
    "print wk\n",
    "Tsmethod = 'linear' # Note: need to read this from file\n",
    "tauA = wk[:,0]\n",
    "tsA = wk[:,1]\n",
    "print tauA,tsA"
   ]
  },
  {
   "cell_type": "code",
   "execution_count": 7,
   "metadata": {
    "collapsed": false
   },
   "outputs": [
    {
     "data": {
      "image/png": "[encoded data removed]",
      "text/plain": [
       "<matplotlib.figure.Figure at 0x1060f3f50>"
      ]
     },
     "metadata": {},
     "output_type": "display_data"
    }
   ],
   "source": [
    "myplot=plt.plot(tauA,tsA); \n",
    "plt.xlabel('Time (yrs BP)')\n",
    "plt.ylabel('$T_s$ Temperature ($^o$C)')\n",
    "plt.title('Upper boundary vs. time')\n",
    "plt.setp(myplot, 'color', 'b', 'linewidth', 2.0)\n",
    "plt.grid(); plt.show()"
   ]
  },
  {
   "cell_type": "code",
   "execution_count": 8,
   "metadata": {
    "collapsed": false
   },
   "outputs": [
    {
     "name": "stdout",
     "output_type": "stream",
     "text": [
      "[array(-10.0), array(-0.05)]\n",
      "source_1 [array([  0. ,   0.2,   0.6,   1. ,   2.6,   4.2,   7. ,   9. ,  14. ,  18. ]), array([  0. ,   0.4,   0.8,   1.8,   3.4,   5.6,   8. ,  11.5,  16. ,  18. ]), array([ 0.2,  0.4,  0.4,  1.6,  1.6,  2.8,  2. ,  5. ,  4. ]), array([  1.00000000e-09,   4.00000000e-01,   4.00000000e-01,\n",
      "         1.00000000e+00,   1.60000000e+00,   2.20000000e+00,\n",
      "         2.40000000e+00,   3.50000000e+00,   4.50000000e+00]), array([ 0.        ,  0.5       ,  0.5       ,  0.8       ,  0.5       ,\n",
      "        0.63636364,  0.41666667,  0.71428571,  0.44444444])] 0\n"
     ]
    }
   ],
   "source": [
    "# set lower boundary condition, qb(tau)\n",
    "\n",
    "tauB = tauA                       # time BP (yrs)\n",
    "qbB = -qb0/1000*np.ones(tauB.size); # convert to W/m^2 and change to CV sign convention\n",
    "qbmethod = 'nearest';                  # interpolation method\n",
    "\n",
    "# > Set initial conditions -----------\n",
    "# set initial time (tau0) to oldest age found in upper BC file\n",
    "\n",
    "tau0 = max(tauA); t = 0;\n",
    "# find BCs at tau0\n",
    "\n",
    "Ts_func = interpolate.interp1d(tauA,tsA,qbmethod)\n",
    "Ts = Ts_func(tau0)\n",
    "qb_func = interpolate.interp1d(tauB,qbB,qbmethod);\n",
    "qb = qb_func(tau0)\n",
    "bcP = [Ts,qb];\n",
    "print bcP\n",
    "print Sname,spaceP,t"
   ]
  },
  {
   "cell_type": "markdown",
   "metadata": {},
   "source": [
    "**Note:** Tprop_1 requires three inputs (currently it has only materialC as an input). Also there was a bug in the K_eff with parentathesis"
   ]
  },
  {
   "cell_type": "code",
   "execution_count": 9,
   "metadata": {
    "collapsed": false
   },
   "outputs": [
    {
     "name": "stdout",
     "output_type": "stream",
     "text": [
      "[array([ 0.,  0.,  0.,  0.,  0.,  0.,  0.,  0.,  0.]), array([ 1.,  1.,  1.,  1.,  1.,  1.,  1.,  1.,  1.]), [0]]\n",
      "idx= 1.0\n",
      "[array([ 2.,  2.,  2.,  2.,  2.,  2.,  2.,  2.,  2.,  2.]), array([ 2000.,  2000.,  2000.,  2000.,  2000.,  2000.,  2000.,  2000.,\n",
      "        2000.,  2000.]), array([ 1000.,  1000.,  1000.,  1000.,  1000.,  1000.,  1000.,  1000.,\n",
      "        1000.,  1000.]), array([ 2000000.,  2000000.,  2000000.,  2000000.,  2000000.,  2000000.,\n",
      "        2000000.,  2000000.,  2000000.,  2000000.]), [array([ 1000.,  1000.,  1000.,  1000.,  1000.,  1000.,  1000.,  1000.,\n",
      "        1000.,  1000.])]]\n",
      "TpropP = [array([ 2.,  2.,  2.,  2.,  2.,  2.,  2.,  2.,  2.,  2.]), array([ 2000.,  2000.,  2000.,  2000.,  2000.,  2000.,  2000.,  2000.,\n",
      "        2000.,  2000.]), array([ 1000.,  1000.,  1000.,  1000.,  1000.,  1000.,  1000.,  1000.,\n",
      "        1000.,  1000.]), array([ 2.,  2.,  2.,  2.,  2.,  2.,  2.,  2.,  0.])]\n"
     ]
    }
   ],
   "source": [
    "# find source term for each CV; calling sorce_* function\n",
    "[QS, Sfrac,sourceP] = c1b.feval(Sname, N,spaceP,t)\n",
    "print [QS, Sfrac,sourceP] \n",
    "\n",
    "# find 1st-guess thermal properties at grid points\n",
    "spinup = 1;\n",
    "T = Ts*np.ones(N);     # (assume T = Ts for entire profile)\n",
    "# calling Tprop_1 function \n",
    "[K,rho,Cp,C,diagC] = c1b.feval(Pname,T,materialC,spinup);\n",
    "print [K,rho,Cp,C,diagC]\n",
    "\n",
    "# find effective conductivity at interfaces (except bottom interface)\n",
    "Ke = c1b.K_eff(N,K,varep);\n",
    "\n",
    "# store thermal properties in cell array TpropP\n",
    "\n",
    "TpropP = [K,rho,Cp,Ke];\n",
    "print 'TpropP =',TpropP"
   ]
  },
  {
   "cell_type": "code",
   "execution_count": 9,
   "metadata": {
    "collapsed": false
   },
   "outputs": [
    {
     "name": "stdout",
     "output_type": "stream",
     "text": [
      "\n",
      "Select how the initial T-field will be established:\n",
      "   [1] input from file \n",
      "   [2] numerical calculation assuming steady-state conditions\n",
      "   [3] analytic calculation (note: works only for 3)\n",
      "  Type [1,2 or 3]: 3\n",
      "e1\n",
      "-10.0 [  0.    0.4   0.8   1.8   3.4   5.6   8.   11.5  16.   18. ] 0.05 [ 2.  2.  2.  2.  2.  2.  2.  2.  2.  2.]\n",
      "[-10.      -9.99    -9.98    -9.955   -9.915   -9.86    -9.8     -9.7125\n",
      "  -9.6     -9.55  ]\n"
     ]
    }
   ],
   "source": [
    "print '\\nSelect how the initial T-field will be established:' \n",
    "print '   [1] input from file '\n",
    "print '   [2] numerical calculation assuming steady-state conditions'\n",
    "print '   [3] analytic calculation (note: works only for 3)'\n",
    "init_opt = input('  Type [1,2 or 3]: ')\n",
    "\n",
    "T = c1b.init_T(N,t,spaceP,TpropP,QS,sourceP,bcP,testP,init_opt);\n",
    "\n",
    "print T"
   ]
  },
  {
   "cell_type": "code",
   "execution_count": 34,
   "metadata": {
    "collapsed": false
   },
   "outputs": [
    {
     "name": "stdout",
     "output_type": "stream",
     "text": [
      "1\n",
      "\n",
      "Enter a filename: fsdff\n",
      "\n"
     ]
    },
    {
     "ename": "TypeError",
     "evalue": "exit expected at most 1 arguments, got 3",
     "output_type": "error",
     "traceback": [
      "\u001b[0;31m---------------------------------------------------------------------------\u001b[0m",
      "\u001b[0;31mTypeError\u001b[0m                                 Traceback (most recent call last)",
      "\u001b[0;32m<ipython-input-34-1d64f5896e8c>\u001b[0m in \u001b[0;36m<module>\u001b[0;34m()\u001b[0m\n\u001b[1;32m     21\u001b[0m     \u001b[0;32mexcept\u001b[0m \u001b[0mIOError\u001b[0m \u001b[0;32mas\u001b[0m \u001b[0me\u001b[0m\u001b[0;34m:\u001b[0m\u001b[0;34m\u001b[0m\u001b[0m\n\u001b[1;32m     22\u001b[0m         \u001b[0;32mprint\u001b[0m\u001b[0;34m\u001b[0m\u001b[0m\n\u001b[0;32m---> 23\u001b[0;31m         \u001b[0msys\u001b[0m\u001b[0;34m.\u001b[0m\u001b[0mexit\u001b[0m\u001b[0;34m(\u001b[0m\u001b[0;34m'Unable to open'\u001b[0m\u001b[0;34m,\u001b[0m \u001b[0mTzname\u001b[0m\u001b[0;34m,\u001b[0m \u001b[0;34m'file'\u001b[0m\u001b[0;34m)\u001b[0m\u001b[0;34m\u001b[0m\u001b[0m\n\u001b[0m\u001b[1;32m     24\u001b[0m \u001b[0;34m\u001b[0m\u001b[0m\n\u001b[1;32m     25\u001b[0m     \u001b[0;31m# First 3 rows of Tzname file has to be headers\u001b[0m\u001b[0;34m\u001b[0m\u001b[0;34m\u001b[0m\u001b[0m\n",
      "\u001b[0;31mTypeError\u001b[0m: exit expected at most 1 arguments, got 3"
     ]
    }
   ],
   "source": [
    "init_opt=1\n",
    "T = np.zeros(N); secyr = 86400*365\n",
    "\n",
    "z = spaceP[1]; Dz = spaceP[2]; dz = spaceP[3]; \n",
    "#NOTE: we cannot do zn = z[0:N], bc we end with N-1 element\n",
    "zn = z # grid points without the one embedded in lowest interface\n",
    "\n",
    "K = TpropP[0]; rho = TpropP[1]; cp = TpropP[2]; Ke = TpropP[3]\n",
    "diffu = K/(rho*cp)\n",
    "\n",
    "Ts = bcP[0]; Jb = bcP[1]; qb = -Jb\n",
    "print init_opt     \n",
    "\n",
    "if init_opt == 1:\n",
    "    print ''\n",
    "    Tzname = raw_input('Enter a filename: ') or 'default_T_init.txt'\n",
    "    try:\n",
    "        with open(Tzname) as file:\n",
    "            pass\n",
    "    except IOError as e:\n",
    "        print 'Unable to open', Tzname, 'file'\n",
    " \n",
    "    # First 3 rows of Tzname file has to be headers\n",
    "    wk = np.loadtxt(Tzname, skiprows=3,unpack=False)\n",
    "    print wk\n",
    "    zA = wk[:,0]   # depth (m)\n",
    "    TzA = wk[:,1]  # T(z)\n",
    "\n",
    "elif init_opt == 2:\n",
    "    J = np.zeros(N+1)\n",
    "    J[N] = -qb\n",
    "    print N+1, J\n",
    "    for i in range(N-1,-1,-1):\n",
    "        J[i]=J[i+1] - QS[i] # NOTE: there is a bug a Gary's code it says QS is an empty matrix\n",
    "        print J[i]\n",
    "             \n",
    "    Kedz = Ke/dz # if this is zero then we are going to encounter div by 0 later\n",
    "    T[0] = Ts\n",
    "    print Ke, Kedz\n",
    "    for i in range(1,N):\n",
    "        T[i] = T[i-1] - J[i]/Kedz[i]\n",
    "\n",
    "elif init_opt == 3:\n",
    "        \n",
    "    experim = testP[0]\n",
    "    T0 = testP[1]\n",
    "    dT = testP[2]\n",
    "    period = testP[3]\n",
    "    print experim\n",
    "\n",
    "    if experim == 'e1':\n",
    "        print T0, zn, qb,K\n",
    "        T = T0 + zn * qb / K \n",
    "    \n",
    "    elif experim == 'e2':\n",
    "        #S0 = sourceP[0]; h = sourceP[1]\n",
    "        #T = T0 + (S0/K) * (h**2) * (1- (np.exp(np.negative(zn[:])/h)))\n",
    "        print 'This part does not work, bc of sourceP = [0], has to have more than 1 element'\n",
    "        \n",
    "    elif experim == 'e3':\n",
    "        Tf = np.zeros(N+1)\n",
    "        Tf[0] = T0\n",
    "        for k in range(0,N):\n",
    "            Tf[k+1] = Tf[k] + Dz[k] * qb/K[k]\n",
    "        T[0] - Tf[0]\n",
    "        for k in range(1,N):\n",
    "            T[k] = 0.5*(Tf[k] + Tf[k+1])\n",
    "        \n",
    "    elif experim == 'e4':\n",
    "        K0 = 2\n",
    "        dKdT = -0.0140\n",
    "        T[0] = T0\n",
    "        for k in range(1,N):\n",
    "            C = -(2*K0*T[k-1] + dKdT*T[k-1]**2 + 2*qb*dz[k])\n",
    "            T[k] = (-K0 + np.sqrt(K0**2 - dKdT*C))/dKdT\n",
    "    \n",
    "    elif experim == 'e5':\n",
    "        T = T0 + zn * (qb/K)\n",
    "        \n",
    "    elif experim == 'e6':\n",
    "        lambda_ = secyr*period # period =0, getting div 0 on the next line\n",
    "        w = 2*np.pi/lambda_\n",
    "        k = np.sqrt(np.pi/(lambda_*diffu))\n",
    "        T = T0 + dT * np.cos(k*zn - w*t + np.pi/2) * np.exp(-k*zn)\n",
    "    \n",
    "    elif experim == 'e7':\n",
    "        T = T0 + zn * qb / K\n",
    "    \n",
    "    else:\n",
    "        import sys\n",
    "        sys.exit(\"init_T: sorry no analytic soln available when itest = 0\")\n",
    "            \n",
    "print T"
   ]
  },
  {
   "cell_type": "markdown",
   "metadata": {
    "collapsed": true
   },
   "source": [
    "T = T0 + zn * (qb/K[:]) "
   ]
  },
  {
   "cell_type": "code",
   "execution_count": 32,
   "metadata": {
    "collapsed": false
   },
   "outputs": [
    {
     "name": "stdout",
     "output_type": "stream",
     "text": [
      "Enter a filename: retgerteg\n",
      "Unable to open retgerteg file\n"
     ]
    }
   ],
   "source": [
    "Tzname = raw_input('Enter a filename: ') or 'default_T_init.txt'\n",
    "try:\n",
    "    with open(Tzname) as file:\n",
    "        pass\n",
    "except IOError as e:\n",
    "    print 'Unable to open', Tzname, 'file'"
   ]
  },
  {
   "cell_type": "code",
   "execution_count": 27,
   "metadata": {
    "collapsed": false
   },
   "outputs": [
    {
     "name": "stdout",
     "output_type": "stream",
     "text": [
      "Enter a filename: dssdfsdf\n"
     ]
    }
   ],
   "source": [
    "filename = raw_input('Enter a filename: ') or 'default_file.asm'"
   ]
  },
  {
   "cell_type": "code",
   "execution_count": null,
   "metadata": {
    "collapsed": true
   },
   "outputs": [],
   "source": []
  }
 ],
 "metadata": {
  "kernelspec": {
   "display_name": "Python 2",
   "language": "python",
   "name": "python2"
  },
  "language_info": {
   "codemirror_mode": {
    "name": "ipython",
    "version": 2
   },
   "file_extension": ".py",
   "mimetype": "text/x-python",
   "name": "python",
   "nbconvert_exporter": "python",
   "pygments_lexer": "ipython2",
   "version": "2.7.10"
  }
 },
 "nbformat": 4,
 "nbformat_minor": 0
}
